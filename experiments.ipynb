{
 "cells": [
  {
   "cell_type": "code",
   "execution_count": 1,
   "metadata": {
    "collapsed": true
   },
   "outputs": [],
   "source": [
    "import random\n",
    "\n",
    "import numpy as np\n",
    "import pandas as pd\n",
    "import matplotlib.pyplot as plt\n",
    "import seaborn as sns\n",
    "\n",
    "from sklearn.model_selection import TimeSeriesSplit, cross_validate\n",
    "from sklearn.pipeline import Pipeline\n",
    "from sklearn.preprocessing import StandardScaler\n",
    "from sklearn.compose import ColumnTransformer\n",
    "\n",
    "from sklearn.metrics import mean_squared_error, r2_score, mean_absolute_error, make_scorer\n",
    "\n",
    "\n",
    "# models\n",
    "from sklearn.linear_model import LinearRegression\n",
    "from sklearn.svm import SVR\n",
    "from sklearn.ensemble import RandomForestRegressor\n",
    "from sklearn.neighbors import KNeighborsRegressor\n",
    "from sklearn.tree import DecisionTreeRegressor\n",
    "from sklearn.neural_network import MLPRegressor\n",
    "\n",
    "# set seed to ensure reproducibility\n",
    "np.random.seed(42)\n",
    "random.seed(42)"
   ]
  },
  {
   "cell_type": "code",
   "execution_count": 2,
   "outputs": [],
   "source": [
    "df = pd.read_csv('dataset.csv')"
   ],
   "metadata": {
    "collapsed": false,
    "pycharm": {
     "name": "#%%\n"
    }
   }
  },
  {
   "cell_type": "code",
   "execution_count": 3,
   "outputs": [
    {
     "data": {
      "text/plain": "   Mes   Ano        Data Cambio (R$ / U$$) IPCA_BASE_FIXA (1993 = 100)  \\\n0    1  1999  01/01/1999              1,50                     1468,41   \n1    2  1999  01/02/1999              1,91                     1483,83   \n2    3  1999  01/03/1999              1,90                     1500,15   \n3    4  1999  01/04/1999              1,69                     1508,55   \n4    5  1999  01/05/1999              1,68                     1513,08   \n\n  IPCA_MES (% a.m.) ProdIndustrial Selic_OVER (% a.a.)  \\\n0               0,7            NaN              29,54%   \n1              1,05            NaN              32,61%   \n2               1,1            NaN              48,16%   \n3              0,56            NaN              32,15%   \n4               0,3            NaN              27,12%   \n\n  Base_monetaria(M1) (R$ Bln) CPI US (% a.m.) FED INTEREST RATE (% a.a.)  \\\n0                       39,11           0,18%                      4,63%   \n1                       39,18           0,00%                      4,76%   \n2                       37,62           0,06%                      4,81%   \n3                       36,46           0,67%                      4,74%   \n4                       35,51           0,06%                      4,74%   \n\n  Produção industrial US Base_monetaria(M1) (U$$ Bln)  \n0                87,6357                     1.098,10  \n1                88,1298                     1.096,70  \n2                88,2987                     1.096,60  \n3                88,4947                     1.101,60  \n4                89,0447                     1.103,80  ",
      "text/html": "<div>\n<style scoped>\n    .dataframe tbody tr th:only-of-type {\n        vertical-align: middle;\n    }\n\n    .dataframe tbody tr th {\n        vertical-align: top;\n    }\n\n    .dataframe thead th {\n        text-align: right;\n    }\n</style>\n<table border=\"1\" class=\"dataframe\">\n  <thead>\n    <tr style=\"text-align: right;\">\n      <th></th>\n      <th>Mes</th>\n      <th>Ano</th>\n      <th>Data</th>\n      <th>Cambio (R$ / U$$)</th>\n      <th>IPCA_BASE_FIXA (1993 = 100)</th>\n      <th>IPCA_MES (% a.m.)</th>\n      <th>ProdIndustrial</th>\n      <th>Selic_OVER (% a.a.)</th>\n      <th>Base_monetaria(M1) (R$ Bln)</th>\n      <th>CPI US (% a.m.)</th>\n      <th>FED INTEREST RATE (% a.a.)</th>\n      <th>Produção industrial US</th>\n      <th>Base_monetaria(M1) (U$$ Bln)</th>\n    </tr>\n  </thead>\n  <tbody>\n    <tr>\n      <th>0</th>\n      <td>1</td>\n      <td>1999</td>\n      <td>01/01/1999</td>\n      <td>1,50</td>\n      <td>1468,41</td>\n      <td>0,7</td>\n      <td>NaN</td>\n      <td>29,54%</td>\n      <td>39,11</td>\n      <td>0,18%</td>\n      <td>4,63%</td>\n      <td>87,6357</td>\n      <td>1.098,10</td>\n    </tr>\n    <tr>\n      <th>1</th>\n      <td>2</td>\n      <td>1999</td>\n      <td>01/02/1999</td>\n      <td>1,91</td>\n      <td>1483,83</td>\n      <td>1,05</td>\n      <td>NaN</td>\n      <td>32,61%</td>\n      <td>39,18</td>\n      <td>0,00%</td>\n      <td>4,76%</td>\n      <td>88,1298</td>\n      <td>1.096,70</td>\n    </tr>\n    <tr>\n      <th>2</th>\n      <td>3</td>\n      <td>1999</td>\n      <td>01/03/1999</td>\n      <td>1,90</td>\n      <td>1500,15</td>\n      <td>1,1</td>\n      <td>NaN</td>\n      <td>48,16%</td>\n      <td>37,62</td>\n      <td>0,06%</td>\n      <td>4,81%</td>\n      <td>88,2987</td>\n      <td>1.096,60</td>\n    </tr>\n    <tr>\n      <th>3</th>\n      <td>4</td>\n      <td>1999</td>\n      <td>01/04/1999</td>\n      <td>1,69</td>\n      <td>1508,55</td>\n      <td>0,56</td>\n      <td>NaN</td>\n      <td>32,15%</td>\n      <td>36,46</td>\n      <td>0,67%</td>\n      <td>4,74%</td>\n      <td>88,4947</td>\n      <td>1.101,60</td>\n    </tr>\n    <tr>\n      <th>4</th>\n      <td>5</td>\n      <td>1999</td>\n      <td>01/05/1999</td>\n      <td>1,68</td>\n      <td>1513,08</td>\n      <td>0,3</td>\n      <td>NaN</td>\n      <td>27,12%</td>\n      <td>35,51</td>\n      <td>0,06%</td>\n      <td>4,74%</td>\n      <td>89,0447</td>\n      <td>1.103,80</td>\n    </tr>\n  </tbody>\n</table>\n</div>"
     },
     "execution_count": 3,
     "metadata": {},
     "output_type": "execute_result"
    }
   ],
   "source": [
    "df.head()"
   ],
   "metadata": {
    "collapsed": false,
    "pycharm": {
     "name": "#%%\n"
    }
   }
  },
  {
   "cell_type": "code",
   "execution_count": 4,
   "outputs": [
    {
     "data": {
      "text/plain": "Index(['Mes', 'Ano', 'Data', 'Cambio (R$ / U$$)',\n       'IPCA_BASE_FIXA (1993 = 100)', 'IPCA_MES (% a.m.)', 'ProdIndustrial',\n       'Selic_OVER (% a.a.)', 'Base_monetaria(M1) (R$ Bln)', 'CPI US (% a.m.)',\n       'FED INTEREST RATE (% a.a.)', 'Produção industrial US',\n       'Base_monetaria(M1) (U$$ Bln)'],\n      dtype='object')"
     },
     "execution_count": 4,
     "metadata": {},
     "output_type": "execute_result"
    }
   ],
   "source": [
    "df.columns"
   ],
   "metadata": {
    "collapsed": false,
    "pycharm": {
     "name": "#%%\n"
    }
   }
  },
  {
   "cell_type": "code",
   "execution_count": 5,
   "outputs": [],
   "source": [
    "def clean_numeric_data(x):\n",
    "    x = x.replace('.','')\n",
    "    x = x.replace(',','.')\n",
    "    x = x.replace('%', '')\n",
    "    return float(x)\n",
    "\n",
    "def train_model(model, train_data, train_label):\n",
    "    model.fit(train_data, train_label)\n",
    "    return model\n",
    "\n",
    "def perform_evaluation(model, test_data, test_label):\n",
    "    predictions = model.predict(test_data)\n",
    "    mse = mean_squared_error(test_label, predictions)\n",
    "    mae = mean_absolute_error(test_label, predictions)\n",
    "    return {'mse': mse, 'mae': mae}\n",
    "\n",
    "def build_metrics(model_name, results, metrics):\n",
    "    metrics[model_name]['mse'].append(results['mse'])\n",
    "    metrics[model_name]['mae'].append(results['mae'])"
   ],
   "metadata": {
    "collapsed": false,
    "pycharm": {
     "name": "#%%\n"
    }
   }
  },
  {
   "cell_type": "code",
   "execution_count": 9,
   "outputs": [],
   "source": [
    "# hardcore way\n",
    "X = df.drop(['Cambio (R$ / U$$)', 'ProdIndustrial', 'Data'], axis=1)\n",
    "Y = df['Cambio (R$ / U$$)']\n",
    "\n",
    "for col in X.columns:\n",
    "    if X[col].dtype == 'object':\n",
    "        X[col] = X[col].apply(clean_numeric_data)\n",
    "\n",
    "Y = Y.apply(clean_numeric_data)#Y = Y.apply(np.log)\n",
    "\n",
    "models = {\n",
    "    #'LinearRegression': LinearRegression(),\n",
    "    'SVR': SVR(),\n",
    "    'RandomForestRegressor': RandomForestRegressor(random_state=42),\n",
    "    'KNeighborsRegressor': KNeighborsRegressor(),\n",
    "    'DecisionTreeRegressor': DecisionTreeRegressor(random_state=42),\n",
    "    #'MLPRegressor': MLPRegressor()\n",
    "}\n",
    "\n",
    "tscv = TimeSeriesSplit(n_splits=20, test_size=1)\n",
    "metrics = {name:{'mse':[], 'mae':[]} for name,_ in models.items()}\n",
    "\n",
    "for train_index, test_index in tscv.split(X):\n",
    "    X_train, X_test = X.iloc[train_index], X.iloc[test_index]\n",
    "    Y_train, Y_test = Y.iloc[train_index], Y.iloc[test_index]\n",
    "    #print(X_train.shape, X_test.shape, Y_train.shape, Y_test.shape)\n",
    "\n",
    "    for name, model in models.items():\n",
    "        model = train_model(model, X_train.values, Y_train.values)\n",
    "        results = perform_evaluation(model, X_test.values, Y_test.values)\n",
    "        build_metrics(name, results, metrics)\n"
   ],
   "metadata": {
    "collapsed": false,
    "pycharm": {
     "name": "#%%\n"
    }
   }
  },
  {
   "cell_type": "code",
   "execution_count": 11,
   "outputs": [],
   "source": [
    "metrics = {name:{'mse':np.mean(metrics[name]['mse']),\n",
    "                 'mae':np.mean(metrics[name]['mae']),\n",
    "                 'rmse':np.sqrt(np.mean(metrics[name]['mse']))}\n",
    "           for name,_ in models.items()}"
   ],
   "metadata": {
    "collapsed": false,
    "pycharm": {
     "name": "#%%\n"
    }
   }
  },
  {
   "cell_type": "code",
   "execution_count": 12,
   "outputs": [
    {
     "data": {
      "text/plain": "           SVR  RandomForestRegressor  KNeighborsRegressor  \\\nmse   0.324113               0.086745             0.106954   \nmae   0.304012               0.231855             0.235400   \nrmse  0.569309               0.294525             0.327038   \n\n      DecisionTreeRegressor  \nmse                0.088285  \nmae                0.244500  \nrmse               0.297128  ",
      "text/html": "<div>\n<style scoped>\n    .dataframe tbody tr th:only-of-type {\n        vertical-align: middle;\n    }\n\n    .dataframe tbody tr th {\n        vertical-align: top;\n    }\n\n    .dataframe thead th {\n        text-align: right;\n    }\n</style>\n<table border=\"1\" class=\"dataframe\">\n  <thead>\n    <tr style=\"text-align: right;\">\n      <th></th>\n      <th>SVR</th>\n      <th>RandomForestRegressor</th>\n      <th>KNeighborsRegressor</th>\n      <th>DecisionTreeRegressor</th>\n    </tr>\n  </thead>\n  <tbody>\n    <tr>\n      <th>mse</th>\n      <td>0.324113</td>\n      <td>0.086745</td>\n      <td>0.106954</td>\n      <td>0.088285</td>\n    </tr>\n    <tr>\n      <th>mae</th>\n      <td>0.304012</td>\n      <td>0.231855</td>\n      <td>0.235400</td>\n      <td>0.244500</td>\n    </tr>\n    <tr>\n      <th>rmse</th>\n      <td>0.569309</td>\n      <td>0.294525</td>\n      <td>0.327038</td>\n      <td>0.297128</td>\n    </tr>\n  </tbody>\n</table>\n</div>"
     },
     "execution_count": 12,
     "metadata": {},
     "output_type": "execute_result"
    }
   ],
   "source": [
    "metric_df = pd.DataFrame(metrics)\n",
    "metric_df"
   ],
   "metadata": {
    "collapsed": false,
    "pycharm": {
     "name": "#%%\n"
    }
   }
  },
  {
   "cell_type": "code",
   "execution_count": 13,
   "outputs": [
    {
     "name": "stdout",
     "output_type": "stream",
     "text": [
      "RandomForestRegressor\n",
      "MSE: 0.087 | MAE: 0.232 | RMSE: 0.295\n",
      "SVR\n",
      "MSE: 0.324 | MAE: 0.304 | RMSE: 0.569\n",
      "KNeighborsRegressor\n",
      "MSE: 0.107 | MAE: 0.235 | RMSE: 0.327\n",
      "DecisionTreeRegressor\n",
      "MSE: 0.088 | MAE: 0.244 | RMSE: 0.297\n"
     ]
    }
   ],
   "source": [
    "# easy way\n",
    "models = [RandomForestRegressor(random_state=42),\n",
    "          SVR(),\n",
    "          KNeighborsRegressor(),\n",
    "          DecisionTreeRegressor(random_state=42)]\n",
    "metrics = {\n",
    "    'mae': make_scorer(mean_absolute_error),\n",
    "    'mse': make_scorer(mean_squared_error),}\n",
    "\n",
    "for model in models:\n",
    "    tscv = TimeSeriesSplit(n_splits=20, test_size=1)\n",
    "\n",
    "    X = df.drop(['Cambio (R$ / U$$)', 'ProdIndustrial', 'Data'], axis=1)\n",
    "    Y = df['Cambio (R$ / U$$)']\n",
    "    for col in X.columns:\n",
    "        if X[col].dtype == 'object':\n",
    "            X[col] = X[col].apply(clean_numeric_data)\n",
    "    Y = Y.apply(clean_numeric_data)\n",
    "\n",
    "    scores = cross_validate(model, X.values, Y.values, cv=tscv, scoring=metrics, return_train_score=False)\n",
    "\n",
    "    print(model.__class__.__name__)\n",
    "    print('MSE: {:.3f} | MAE: {:.3f} | RMSE: {:.3f}'.format(\n",
    "        scores['test_mse'].mean(),\n",
    "        scores['test_mae'].mean(),\n",
    "        np.sqrt(scores['test_mse'].mean()),\n",
    "    ))\n"
   ],
   "metadata": {
    "collapsed": false,
    "pycharm": {
     "name": "#%%\n"
    }
   }
  },
  {
   "cell_type": "code",
   "execution_count": null,
   "outputs": [],
   "source": [
    "# predict only one instance\n",
    "\n",
    "#print(rf.predict([X_test.iloc[0]]))\n",
    "#print(Y_test.iloc[0])\n",
    "#X_test.iloc[0]"
   ],
   "metadata": {
    "collapsed": false,
    "pycharm": {
     "name": "#%%\n"
    }
   }
  }
 ],
 "metadata": {
  "kernelspec": {
   "display_name": "Python 3",
   "language": "python",
   "name": "python3"
  },
  "language_info": {
   "codemirror_mode": {
    "name": "ipython",
    "version": 2
   },
   "file_extension": ".py",
   "mimetype": "text/x-python",
   "name": "python",
   "nbconvert_exporter": "python",
   "pygments_lexer": "ipython2",
   "version": "2.7.6"
  }
 },
 "nbformat": 4,
 "nbformat_minor": 0
}